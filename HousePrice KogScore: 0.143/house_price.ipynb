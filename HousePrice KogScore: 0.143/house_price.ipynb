{
 "cells": [
  {
   "cell_type": "code",
   "execution_count": 71,
   "metadata": {},
   "outputs": [],
   "source": [
    "import pandas as pd\n",
    "import numpy as np\n",
    "from sklearn.model_selection import GridSearchCV , RandomizedSearchCV, train_test_split, cross_val_score\n",
    "from sklearn.ensemble import RandomForestClassifier\n",
    "from sklearn.metrics import precision_score, classification_report, precision_recall_curve\n",
    "from sklearn import metrics\n",
    "from sklearn.utils.multiclass import type_of_target\n",
    "from sklearn.linear_model import LinearRegression"
   ]
  },
  {
   "cell_type": "code",
   "execution_count": 72,
   "metadata": {},
   "outputs": [],
   "source": [
    "train = pd.read_csv(\"/home/daniil_ast/programing/python/statistics/house-prices-advanced/Data/train.csv\")\n",
    "test = pd.read_csv(\"/home/daniil_ast/programing/python/statistics/house-prices-advanced/Data/test.csv\")\n",
    "submission = pd.read_csv(\"/home/daniil_ast/programing/python/statistics/house-prices-advanced/Data/sample_submission.csv\")"
   ]
  },
  {
   "cell_type": "code",
   "execution_count": null,
   "metadata": {},
   "outputs": [],
   "source": [
    "X_train = pd.get_dummies(train.drop([\"SalePrice\"],axis=1)).fillna(0)\n",
    "X_train = X_train.replace({True:1,False:0}).set_index(\"Id\")\n",
    "y_train = train[[\"Id\",\"SalePrice\"]].set_index(\"Id\")\n",
    "test = pd.get_dummies(test).fillna(0)\n",
    "test = test.replace({True:1,False:0}).set_index(\"Id\")\n",
    "X_train = X_train[sorted(X_train.columns )]"
   ]
  },
  {
   "cell_type": "code",
   "execution_count": 74,
   "metadata": {},
   "outputs": [],
   "source": [
    "for i in X_train.columns:\n",
    "    if not i in test.columns:\n",
    "        test[i] = 0\n",
    "test = test[sorted(test.columns )]"
   ]
  },
  {
   "cell_type": "code",
   "execution_count": null,
   "metadata": {},
   "outputs": [],
   "source": [
    "from sklearn import linear_model\n",
    "clf = LinearRegression()\n",
    "clf = linear_model.RidgeCV(alphas=np.logspace(-50, 50, 100), cv=5, fit_intercept=False, gcv_mode = \"eigen\")\n",
    "clf.fit(X_train,y_train)\n"
   ]
  },
  {
   "cell_type": "code",
   "execution_count": null,
   "metadata": {},
   "outputs": [],
   "source": [
    "result = test.reset_index()['Id'].to_frame()\n",
    "result['SalePrice'] = (clf.predict(test))\n",
    "result[['Id', 'SalePrice']].to_csv(f'predict.csv', index=False)"
   ]
  },
  {
   "attachments": {
    "image.png": {
     "image/png": "[encoded data removed]"
    }
   },
   "cell_type": "markdown",
   "metadata": {},
   "source": [
    "![image.png](attachment:image.png)"
   ]
  },
  {
   "cell_type": "code",
   "execution_count": 70,
   "metadata": {},
   "outputs": [
    {
     "data": {
      "text/plain": [
       "0.0814171964336704"
      ]
     },
     "execution_count": 70,
     "metadata": {},
     "output_type": "execute_result"
    }
   ],
   "source": [
    "metrics.r2_score(clf.predict(test) , submission.reset_index()[\"SalePrice\"])"
   ]
  }
 ],
 "metadata": {
  "kernelspec": {
   "display_name": "Python 3",
   "language": "python",
   "name": "python3"
  },
  "language_info": {
   "codemirror_mode": {
    "name": "ipython",
    "version": 3
   },
   "file_extension": ".py",
   "mimetype": "text/x-python",
   "name": "python",
   "nbconvert_exporter": "python",
   "pygments_lexer": "ipython3",
   "version": "3.12.4"
  }
 },
 "nbformat": 4,
 "nbformat_minor": 2
}
