{
 "cells": [
  {
   "cell_type": "code",
   "execution_count": 30,
   "metadata": {},
   "outputs": [],
   "source": [
    "import pandas as pd\n",
    "import numpy as np\n",
    "from sklearn.model_selection import GridSearchCV , RandomizedSearchCV, train_test_split, cross_val_score\n",
    "from sklearn.ensemble import RandomForestClassifier\n",
    "from sklearn.metrics import precision_score, classification_report, precision_recall_curve"
   ]
  },
  {
   "cell_type": "code",
   "execution_count": null,
   "metadata": {},
   "outputs": [],
   "source": [
    "train = pd.read_csv(\"Data/train.csv\")\n",
    "test = pd.read_csv(\"Data/test.csv\")\n",
    "submission = pd.read_csv(\"Data/gender_submission.csv\")\n",
    "train.Fare.min()"
   ]
  },
  {
   "cell_type": "code",
   "execution_count": 104,
   "metadata": {},
   "outputs": [],
   "source": [
    "def createModel(df , n):\n",
    "    df['Sex'] = df['Sex'].replace({'male': 1, 'female': 0})\n",
    "    df[\"Embarked\"] = df[\"Embarked\"].fillna(0)\n",
    "    df[\"Age\"] = df[\"Age\"].fillna(df.Age.mean())\n",
    "    df['Embarked'] = df['Embarked'].replace({'S': 3, 'C': 2 , 'Q':1})\n",
    "    df = df.drop([\"Name\" , \"Ticket\" , \"Cabin\"], axis=1)\n",
    "    if n == 2:\n",
    "        return df[[\"PassengerId\", \"Pclass\", \"Age\", \"Sex\",\"SibSp\", \"Parch\", \"Fare\", \"Embarked\" ]].set_index(\"PassengerId\") , df[[\"PassengerId\" , \"Survived\"]].set_index(\"PassengerId\")\n",
    "    else:\n",
    "        return df[[\"PassengerId\", \"Pclass\", \"Age\", \"Sex\",\"SibSp\", \"Parch\", \"Fare\", \"Embarked\"]].set_index(\"PassengerId\")"
   ]
  },
  {
   "cell_type": "code",
   "execution_count": null,
   "metadata": {},
   "outputs": [],
   "source": [
    "X_train , y_train = createModel(train,2)\n",
    "X_test = createModel(test,1)\n"
   ]
  },
  {
   "cell_type": "code",
   "execution_count": null,
   "metadata": {},
   "outputs": [],
   "source": [
    "clf = RandomForestClassifier()\n",
    "parametrs = {\n",
    "    \"n_estimators\":range(1,100,5),\n",
    "    \"criterion\":[\"gini\", \"entropy\"],\n",
    "    \"max_depth\":range(1,10),\n",
    "    \"min_samples_split\":range(1,50),\n",
    "    \"min_samples_leaf\":range(1,50)\n",
    "}\n",
    "search = RandomizedSearchCV(clf, parametrs, cv=5, n_jobs=-1)\n",
    "search.fit(X_train, y_train)\n",
    "best_forest = search.best_estimator_"
   ]
  },
  {
   "cell_type": "code",
   "execution_count": 109,
   "metadata": {},
   "outputs": [
    {
     "data": {
      "text/html": [
       "<div>\n",
       "<style scoped>\n",
       "    .dataframe tbody tr th:only-of-type {\n",
       "        vertical-align: middle;\n",
       "    }\n",
       "\n",
       "    .dataframe tbody tr th {\n",
       "        vertical-align: top;\n",
       "    }\n",
       "\n",
       "    .dataframe thead th {\n",
       "        text-align: right;\n",
       "    }\n",
       "</style>\n",
       "<table border=\"1\" class=\"dataframe\">\n",
       "  <thead>\n",
       "    <tr style=\"text-align: right;\">\n",
       "      <th></th>\n",
       "      <th>Non-churned</th>\n",
       "      <th>Churned</th>\n",
       "      <th>accuracy</th>\n",
       "      <th>macro avg</th>\n",
       "      <th>weighted avg</th>\n",
       "    </tr>\n",
       "  </thead>\n",
       "  <tbody>\n",
       "    <tr>\n",
       "      <th>precision</th>\n",
       "      <td>0.923611</td>\n",
       "      <td>1.000000</td>\n",
       "      <td>0.947368</td>\n",
       "      <td>0.961806</td>\n",
       "      <td>0.951389</td>\n",
       "    </tr>\n",
       "    <tr>\n",
       "      <th>recall</th>\n",
       "      <td>1.000000</td>\n",
       "      <td>0.855263</td>\n",
       "      <td>0.947368</td>\n",
       "      <td>0.927632</td>\n",
       "      <td>0.947368</td>\n",
       "    </tr>\n",
       "    <tr>\n",
       "      <th>f1-score</th>\n",
       "      <td>0.960289</td>\n",
       "      <td>0.921986</td>\n",
       "      <td>0.947368</td>\n",
       "      <td>0.941137</td>\n",
       "      <td>0.946360</td>\n",
       "    </tr>\n",
       "    <tr>\n",
       "      <th>support</th>\n",
       "      <td>266.000000</td>\n",
       "      <td>152.000000</td>\n",
       "      <td>0.947368</td>\n",
       "      <td>418.000000</td>\n",
       "      <td>418.000000</td>\n",
       "    </tr>\n",
       "  </tbody>\n",
       "</table>\n",
       "</div>"
      ],
      "text/plain": [
       "           Non-churned     Churned  accuracy   macro avg  weighted avg\n",
       "precision     0.923611    1.000000  0.947368    0.961806      0.951389\n",
       "recall        1.000000    0.855263  0.947368    0.927632      0.947368\n",
       "f1-score      0.960289    0.921986  0.947368    0.941137      0.946360\n",
       "support     266.000000  152.000000  0.947368  418.000000    418.000000"
      ]
     },
     "execution_count": 109,
     "metadata": {},
     "output_type": "execute_result"
    }
   ],
   "source": [
    "y_predict = pd.DataFrame(X_test.reset_index()[\"PassengerId\"])\n",
    "y_predict[\"Survived\"] = best_forest.predict(X_test)\n",
    "pd.DataFrame(classification_report(submission[\"Survived\"], y_predict[\"Survived\"], target_names=['Non-churned', 'Churned'], output_dict=True))"
   ]
  },
  {
   "cell_type": "code",
   "execution_count": 108,
   "metadata": {},
   "outputs": [],
   "source": [
    "result = test['PassengerId'].to_frame()\n",
    "result['Survived'] = (best_forest.predict(X_test))\n",
    "result[['PassengerId', 'Survived']].to_csv(f'predict.csv', index=False)"
   ]
  },
  {
   "attachments": {
    "image.png": {
     "image/png": "[encoded data removed]"
    }
   },
   "cell_type": "markdown",
   "metadata": {},
   "source": [
    "![image.png](attachment:image.png)"
   ]
  }
 ],
 "metadata": {
  "kernelspec": {
   "display_name": "Python 3",
   "language": "python",
   "name": "python3"
  },
  "language_info": {
   "codemirror_mode": {
    "name": "ipython",
    "version": 3
   },
   "file_extension": ".py",
   "mimetype": "text/x-python",
   "name": "python",
   "nbconvert_exporter": "python",
   "pygments_lexer": "ipython3",
   "version": "3.12.4"
  }
 },
 "nbformat": 4,
 "nbformat_minor": 2
}
