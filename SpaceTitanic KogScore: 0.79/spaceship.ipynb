{
 "cells": [
  {
   "cell_type": "code",
   "execution_count": 3,
   "metadata": {},
   "outputs": [],
   "source": [
    "import pandas as pd\n",
    "import numpy as np\n",
    "from sklearn.model_selection import GridSearchCV , RandomizedSearchCV, train_test_split, cross_val_score\n",
    "from sklearn.ensemble import RandomForestClassifier\n",
    "from sklearn.metrics import precision_score, classification_report, precision_recall_curve\n",
    "from sklearn import metrics\n",
    "from sklearn.utils.multiclass import type_of_target\n",
    "from sklearn.linear_model import LinearRegression"
   ]
  },
  {
   "cell_type": "code",
   "execution_count": 36,
   "metadata": {},
   "outputs": [],
   "source": [
    "train = pd.read_csv(\"/Data/train.csv\")\n",
    "test = pd.read_csv(\"/Data/test.csv\")\n",
    "submission = pd.read_csv(\"/Data/sample_submission.csv\")"
   ]
  },
  {
   "cell_type": "code",
   "execution_count": 37,
   "metadata": {},
   "outputs": [],
   "source": [
    "X = train.drop([\"Name\",\"Transported\",\"Cabin\"],axis=1)"
   ]
  },
   "source": [
    "X.HomePlanet.unique()\n",
    "X = X.fillna(0)\n",
    "X.HomePlanet = X.HomePlanet.replace({'Europa':1,\n",
    "                       'Earth':2, \n",
    "                       'Mars':3})\n",
    "X.CryoSleep = X.CryoSleep.replace({False:0,True:1})\n",
    "X.VIP = X.VIP.replace({False:0,True:1})\n",
    "X.Destination = X.Destination.replace({'TRAPPIST-1e':1,\n",
    "                                        'PSO J318.5-22':2,\n",
    "                                        '55 Cancri e':3})\n",
    "X = X.set_index(\"PassengerId\")"
   ]
  },
  {
   "cell_type": "code",
   "execution_count": 39,
   "metadata": {},
   "outputs": [
    {
     "name": "stderr",
     "output_type": "stream",
     "text": [
      "/tmp/ipykernel_14397/1069983629.py:3: FutureWarning: Downcasting behavior in `replace` is deprecated and will be removed in a future version. To retain the old behavior, explicitly call `result.infer_objects(copy=False)`. To opt-in to the future behavior, set `pd.set_option('future.no_silent_downcasting', True)`\n",
      "  test.HomePlanet = test.HomePlanet.replace({'Europa':1,\n",
      "/tmp/ipykernel_14397/1069983629.py:6: FutureWarning: Downcasting behavior in `replace` is deprecated and will be removed in a future version. To retain the old behavior, explicitly call `result.infer_objects(copy=False)`. To opt-in to the future behavior, set `pd.set_option('future.no_silent_downcasting', True)`\n",
      "  test.CryoSleep = test.CryoSleep.replace({False:0,True:1})\n",
      "/tmp/ipykernel_14397/1069983629.py:7: FutureWarning: Downcasting behavior in `replace` is deprecated and will be removed in a future version. To retain the old behavior, explicitly call `result.infer_objects(copy=False)`. To opt-in to the future behavior, set `pd.set_option('future.no_silent_downcasting', True)`\n",
      "  test.VIP = test.VIP.replace({False:0,True:1})\n",
      "/tmp/ipykernel_14397/1069983629.py:8: FutureWarning: Downcasting behavior in `replace` is deprecated and will be removed in a future version. To retain the old behavior, explicitly call `result.infer_objects(copy=False)`. To opt-in to the future behavior, set `pd.set_option('future.no_silent_downcasting', True)`\n",
      "  test.Destination = test.Destination.replace({'TRAPPIST-1e':1,\n"
     ]
    }
   ],
   "source": [
    "test = test.drop([\"Name\",\"Cabin\"],axis=1)\n",
    "test = test.fillna(0)\n",
    "test.HomePlanet = test.HomePlanet.replace({'Europa':1,\n",
    "                       'Earth':2, \n",
    "                       'Mars':3})\n",
    "test.CryoSleep = test.CryoSleep.replace({False:0,True:1})\n",
    "test.VIP = test.VIP.replace({False:0,True:1})\n",
    "test.Destination = test.Destination.replace({'TRAPPIST-1e':1,\n",
    "                                        'PSO J318.5-22':2,\n",
    "                                        '55 Cancri e':3})\n",
    "test = test.set_index(\"PassengerId\")"
   ]
  },
  {
   "cell_type": "code",
   "execution_count": 40,
   "metadata": {},
   "outputs": [],
   "source": [
    "Y = train[[\"PassengerId\", \"Transported\"]].set_index(\"PassengerId\")"
   ]
  },
  {
   "cell_type": "code",
   "execution_count": 41,
   "metadata": {},
   "outputs": [
    {
     "name": "stderr",
     "output_type": "stream",
     "text": [
      "/home/daniil_ast/.local/lib/python3.12/site-packages/sklearn/base.py:1473: DataConversionWarning: A column-vector y was passed when a 1d array was expected. Please change the shape of y to (n_samples,), for example using ravel().\n",
      "  return fit_method(estimator, *args, **kwargs)\n",
      "/home/daniil_ast/.local/lib/python3.12/site-packages/sklearn/base.py:1473: DataConversionWarning: A column-vector y was passed when a 1d array was expected. Please change the shape of y to (n_samples,), for example using ravel().\n",
      "  return fit_method(estimator, *args, **kwargs)\n",
      "/home/daniil_ast/.local/lib/python3.12/site-packages/sklearn/base.py:1473: DataConversionWarning: A column-vector y was passed when a 1d array was expected. Please change the shape of y to (n_samples,), for example using ravel().\n",
      "  return fit_method(estimator, *args, **kwargs)\n",
      "/home/daniil_ast/.local/lib/python3.12/site-packages/sklearn/base.py:1473: DataConversionWarning: A column-vector y was passed when a 1d array was expected. Please change the shape of y to (n_samples,), for example using ravel().\n",
      "  return fit_method(estimator, *args, **kwargs)\n",
      "/home/daniil_ast/.local/lib/python3.12/site-packages/sklearn/base.py:1473: DataConversionWarning: A column-vector y was passed when a 1d array was expected. Please change the shape of y to (n_samples,), for example using ravel().\n",
      "  return fit_method(estimator, *args, **kwargs)\n",
      "/home/daniil_ast/.local/lib/python3.12/site-packages/sklearn/base.py:1473: DataConversionWarning: A column-vector y was passed when a 1d array was expected. Please change the shape of y to (n_samples,), for example using ravel().\n",
      "  return fit_method(estimator, *args, **kwargs)\n",
      "/home/daniil_ast/.local/lib/python3.12/site-packages/sklearn/base.py:1473: DataConversionWarning: A column-vector y was passed when a 1d array was expected. Please change the shape of y to (n_samples,), for example using ravel().\n",
      "  return fit_method(estimator, *args, **kwargs)\n",
      "/home/daniil_ast/.local/lib/python3.12/site-packages/sklearn/base.py:1473: DataConversionWarning: A column-vector y was passed when a 1d array was expected. Please change the shape of y to (n_samples,), for example using ravel().\n",
      "  return fit_method(estimator, *args, **kwargs)\n",
      "/home/daniil_ast/.local/lib/python3.12/site-packages/sklearn/base.py:1473: DataConversionWarning: A column-vector y was passed when a 1d array was expected. Please change the shape of y to (n_samples,), for example using ravel().\n",
      "  return fit_method(estimator, *args, **kwargs)\n",
      "/home/daniil_ast/.local/lib/python3.12/site-packages/sklearn/base.py:1473: DataConversionWarning: A column-vector y was passed when a 1d array was expected. Please change the shape of y to (n_samples,), for example using ravel().\n",
      "  return fit_method(estimator, *args, **kwargs)\n",
      "/home/daniil_ast/.local/lib/python3.12/site-packages/sklearn/base.py:1473: DataConversionWarning: A column-vector y was passed when a 1d array was expected. Please change the shape of y to (n_samples,), for example using ravel().\n",
      "  return fit_method(estimator, *args, **kwargs)\n",
      "/home/daniil_ast/.local/lib/python3.12/site-packages/sklearn/base.py:1473: DataConversionWarning: A column-vector y was passed when a 1d array was expected. Please change the shape of y to (n_samples,), for example using ravel().\n",
      "  return fit_method(estimator, *args, **kwargs)\n",
      "/home/daniil_ast/.local/lib/python3.12/site-packages/sklearn/base.py:1473: DataConversionWarning: A column-vector y was passed when a 1d array was expected. Please change the shape of y to (n_samples,), for example using ravel().\n",
      "  return fit_method(estimator, *args, **kwargs)\n",
      "/home/daniil_ast/.local/lib/python3.12/site-packages/sklearn/base.py:1473: DataConversionWarning: A column-vector y was passed when a 1d array was expected. Please change the shape of y to (n_samples,), for example using ravel().\n",
      "  return fit_method(estimator, *args, **kwargs)\n",
      "/home/daniil_ast/.local/lib/python3.12/site-packages/sklearn/base.py:1473: DataConversionWarning: A column-vector y was passed when a 1d array was expected. Please change the shape of y to (n_samples,), for example using ravel().\n",
      "  return fit_method(estimator, *args, **kwargs)\n",
      "/home/daniil_ast/.local/lib/python3.12/site-packages/sklearn/base.py:1473: DataConversionWarning: A column-vector y was passed when a 1d array was expected. Please change the shape of y to (n_samples,), for example using ravel().\n",
      "  return fit_method(estimator, *args, **kwargs)\n",
      "/home/daniil_ast/.local/lib/python3.12/site-packages/sklearn/base.py:1473: DataConversionWarning: A column-vector y was passed when a 1d array was expected. Please change the shape of y to (n_samples,), for example using ravel().\n",
      "  return fit_method(estimator, *args, **kwargs)\n",
      "/home/daniil_ast/.local/lib/python3.12/site-packages/sklearn/base.py:1473: DataConversionWarning: A column-vector y was passed when a 1d array was expected. Please change the shape of y to (n_samples,), for example using ravel().\n",
      "  return fit_method(estimator, *args, **kwargs)\n",
      "/home/daniil_ast/.local/lib/python3.12/site-packages/sklearn/base.py:1473: DataConversionWarning: A column-vector y was passed when a 1d array was expected. Please change the shape of y to (n_samples,), for example using ravel().\n",
      "  return fit_method(estimator, *args, **kwargs)\n",
      "/home/daniil_ast/.local/lib/python3.12/site-packages/sklearn/base.py:1473: DataConversionWarning: A column-vector y was passed when a 1d array was expected. Please change the shape of y to (n_samples,), for example using ravel().\n",
      "  return fit_method(estimator, *args, **kwargs)\n",
      "/home/daniil_ast/.local/lib/python3.12/site-packages/sklearn/base.py:1473: DataConversionWarning: A column-vector y was passed when a 1d array was expected. Please change the shape of y to (n_samples,), for example using ravel().\n",
      "  return fit_method(estimator, *args, **kwargs)\n",
      "/home/daniil_ast/.local/lib/python3.12/site-packages/sklearn/base.py:1473: DataConversionWarning: A column-vector y was passed when a 1d array was expected. Please change the shape of y to (n_samples,), for example using ravel().\n",
      "  return fit_method(estimator, *args, **kwargs)\n",
      "/home/daniil_ast/.local/lib/python3.12/site-packages/sklearn/base.py:1473: DataConversionWarning: A column-vector y was passed when a 1d array was expected. Please change the shape of y to (n_samples,), for example using ravel().\n",
      "  return fit_method(estimator, *args, **kwargs)\n",
      "/home/daniil_ast/.local/lib/python3.12/site-packages/sklearn/base.py:1473: DataConversionWarning: A column-vector y was passed when a 1d array was expected. Please change the shape of y to (n_samples,), for example using ravel().\n",
      "  return fit_method(estimator, *args, **kwargs)\n",
      "/home/daniil_ast/.local/lib/python3.12/site-packages/sklearn/base.py:1473: DataConversionWarning: A column-vector y was passed when a 1d array was expected. Please change the shape of y to (n_samples,), for example using ravel().\n",
      "  return fit_method(estimator, *args, **kwargs)\n",
      "/home/daniil_ast/.local/lib/python3.12/site-packages/sklearn/base.py:1473: DataConversionWarning: A column-vector y was passed when a 1d array was expected. Please change the shape of y to (n_samples,), for example using ravel().\n",
      "  return fit_method(estimator, *args, **kwargs)\n",
      "/home/daniil_ast/.local/lib/python3.12/site-packages/sklearn/base.py:1473: DataConversionWarning: A column-vector y was passed when a 1d array was expected. Please change the shape of y to (n_samples,), for example using ravel().\n",
      "  return fit_method(estimator, *args, **kwargs)\n",
      "/home/daniil_ast/.local/lib/python3.12/site-packages/sklearn/base.py:1473: DataConversionWarning: A column-vector y was passed when a 1d array was expected. Please change the shape of y to (n_samples,), for example using ravel().\n",
      "  return fit_method(estimator, *args, **kwargs)\n",
      "/home/daniil_ast/.local/lib/python3.12/site-packages/sklearn/base.py:1473: DataConversionWarning: A column-vector y was passed when a 1d array was expected. Please change the shape of y to (n_samples,), for example using ravel().\n",
      "  return fit_method(estimator, *args, **kwargs)\n",
      "/home/daniil_ast/.local/lib/python3.12/site-packages/sklearn/base.py:1473: DataConversionWarning: A column-vector y was passed when a 1d array was expected. Please change the shape of y to (n_samples,), for example using ravel().\n",
      "  return fit_method(estimator, *args, **kwargs)\n",
      "/home/daniil_ast/.local/lib/python3.12/site-packages/sklearn/base.py:1473: DataConversionWarning: A column-vector y was passed when a 1d array was expected. Please change the shape of y to (n_samples,), for example using ravel().\n",
      "  return fit_method(estimator, *args, **kwargs)\n",
      "/home/daniil_ast/.local/lib/python3.12/site-packages/sklearn/base.py:1473: DataConversionWarning: A column-vector y was passed when a 1d array was expected. Please change the shape of y to (n_samples,), for example using ravel().\n",
      "  return fit_method(estimator, *args, **kwargs)\n",
      "/home/daniil_ast/.local/lib/python3.12/site-packages/sklearn/base.py:1473: DataConversionWarning: A column-vector y was passed when a 1d array was expected. Please change the shape of y to (n_samples,), for example using ravel().\n",
      "  return fit_method(estimator, *args, **kwargs)\n",
      "/home/daniil_ast/.local/lib/python3.12/site-packages/sklearn/base.py:1473: DataConversionWarning: A column-vector y was passed when a 1d array was expected. Please change the shape of y to (n_samples,), for example using ravel().\n",
      "  return fit_method(estimator, *args, **kwargs)\n",
      "/home/daniil_ast/.local/lib/python3.12/site-packages/sklearn/base.py:1473: DataConversionWarning: A column-vector y was passed when a 1d array was expected. Please change the shape of y to (n_samples,), for example using ravel().\n",
      "  return fit_method(estimator, *args, **kwargs)\n",
      "/home/daniil_ast/.local/lib/python3.12/site-packages/sklearn/base.py:1473: DataConversionWarning: A column-vector y was passed when a 1d array was expected. Please change the shape of y to (n_samples,), for example using ravel().\n",
      "  return fit_method(estimator, *args, **kwargs)\n",
      "/home/daniil_ast/.local/lib/python3.12/site-packages/sklearn/base.py:1473: DataConversionWarning: A column-vector y was passed when a 1d array was expected. Please change the shape of y to (n_samples,), for example using ravel().\n",
      "  return fit_method(estimator, *args, **kwargs)\n",
      "/home/daniil_ast/.local/lib/python3.12/site-packages/sklearn/base.py:1473: DataConversionWarning: A column-vector y was passed when a 1d array was expected. Please change the shape of y to (n_samples,), for example using ravel().\n",
      "  return fit_method(estimator, *args, **kwargs)\n",
      "/home/daniil_ast/.local/lib/python3.12/site-packages/sklearn/base.py:1473: DataConversionWarning: A column-vector y was passed when a 1d array was expected. Please change the shape of y to (n_samples,), for example using ravel().\n",
      "  return fit_method(estimator, *args, **kwargs)\n",
      "/home/daniil_ast/.local/lib/python3.12/site-packages/sklearn/base.py:1473: DataConversionWarning: A column-vector y was passed when a 1d array was expected. Please change the shape of y to (n_samples,), for example using ravel().\n",
      "  return fit_method(estimator, *args, **kwargs)\n",
      "/home/daniil_ast/.local/lib/python3.12/site-packages/sklearn/base.py:1473: DataConversionWarning: A column-vector y was passed when a 1d array was expected. Please change the shape of y to (n_samples,), for example using ravel().\n",
      "  return fit_method(estimator, *args, **kwargs)\n",
      "/home/daniil_ast/.local/lib/python3.12/site-packages/sklearn/base.py:1473: DataConversionWarning: A column-vector y was passed when a 1d array was expected. Please change the shape of y to (n_samples,), for example using ravel().\n",
      "  return fit_method(estimator, *args, **kwargs)\n",
      "/home/daniil_ast/.local/lib/python3.12/site-packages/sklearn/base.py:1473: DataConversionWarning: A column-vector y was passed when a 1d array was expected. Please change the shape of y to (n_samples,), for example using ravel().\n",
      "  return fit_method(estimator, *args, **kwargs)\n",
      "/home/daniil_ast/.local/lib/python3.12/site-packages/sklearn/base.py:1473: DataConversionWarning: A column-vector y was passed when a 1d array was expected. Please change the shape of y to (n_samples,), for example using ravel().\n",
      "  return fit_method(estimator, *args, **kwargs)\n",
      "/home/daniil_ast/.local/lib/python3.12/site-packages/sklearn/base.py:1473: DataConversionWarning: A column-vector y was passed when a 1d array was expected. Please change the shape of y to (n_samples,), for example using ravel().\n",
      "  return fit_method(estimator, *args, **kwargs)\n",
      "/home/daniil_ast/.local/lib/python3.12/site-packages/sklearn/base.py:1473: DataConversionWarning: A column-vector y was passed when a 1d array was expected. Please change the shape of y to (n_samples,), for example using ravel().\n",
      "  return fit_method(estimator, *args, **kwargs)\n",
      "/home/daniil_ast/.local/lib/python3.12/site-packages/sklearn/base.py:1473: DataConversionWarning: A column-vector y was passed when a 1d array was expected. Please change the shape of y to (n_samples,), for example using ravel().\n",
      "  return fit_method(estimator, *args, **kwargs)\n",
      "/home/daniil_ast/.local/lib/python3.12/site-packages/sklearn/base.py:1473: DataConversionWarning: A column-vector y was passed when a 1d array was expected. Please change the shape of y to (n_samples,), for example using ravel().\n",
      "  return fit_method(estimator, *args, **kwargs)\n",
      "/home/daniil_ast/.local/lib/python3.12/site-packages/sklearn/base.py:1473: DataConversionWarning: A column-vector y was passed when a 1d array was expected. Please change the shape of y to (n_samples,), for example using ravel().\n",
      "  return fit_method(estimator, *args, **kwargs)\n",
      "/home/daniil_ast/.local/lib/python3.12/site-packages/sklearn/base.py:1473: DataConversionWarning: A column-vector y was passed when a 1d array was expected. Please change the shape of y to (n_samples,), for example using ravel().\n",
      "  return fit_method(estimator, *args, **kwargs)\n",
      "/home/daniil_ast/.local/lib/python3.12/site-packages/sklearn/base.py:1473: DataConversionWarning: A column-vector y was passed when a 1d array was expected. Please change the shape of y to (n_samples,), for example using ravel().\n",
      "  return fit_method(estimator, *args, **kwargs)\n"
     ]
    }
   ],
   "source": [
    "clf = RandomForestClassifier()\n",
    "parametrs = {\n",
    "    \"n_estimators\":range(1,100,5),\n",
    "    \"criterion\":[\"gini\", \"entropy\"],\n",
    "    \"max_depth\":range(1,10),\n",
    "    \"min_samples_split\":range(1,50),\n",
    "    \"min_samples_leaf\":range(1,50)\n",
    "}\n",
    "search = RandomizedSearchCV(clf, parametrs, cv=5, n_jobs=-1)\n",
    "search.fit(X, Y)\n",
    "best_forest = search.best_estimator_\n"
   ]
  },
  {
   "cell_type": "code",
   "execution_count": 43,
   "metadata": {},
   "outputs": [],
   "source": [
    "result = test.reset_index()['PassengerId'].to_frame()\n",
    "result['Transported'] = (best_forest.predict(test))\n",
    "result[['PassengerId', 'Transported']].to_csv(f'predict.csv', index=False)"
   ]
  },
  {
   "attachments": {
    "image.png": {
     "image/png": "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"
    }
   },
   "cell_type": "markdown",
   "metadata": {},
   "source": [
    "![image.png](attachment:image.png)"
   ]
  }
 ],
 "metadata": {
  "kernelspec": {
   "display_name": "Python 3",
   "language": "python",
   "name": "python3"
  },
  "language_info": {
   "codemirror_mode": {
    "name": "ipython",
    "version": 3
   },
   "file_extension": ".py",
   "mimetype": "text/x-python",
   "name": "python",
   "nbconvert_exporter": "python",
   "pygments_lexer": "ipython3",
   "version": "3.12.4"
  }
 },
 "nbformat": 4,
 "nbformat_minor": 2
}
